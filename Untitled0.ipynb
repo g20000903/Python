{
  "nbformat": 4,
  "nbformat_minor": 0,
  "metadata": {
    "colab": {
      "name": "Untitled0.ipynb",
      "provenance": [],
      "collapsed_sections": [],
      "authorship_tag": "ABX9TyNpOFsFwl3dEUDyOceicdA6",
      "include_colab_link": true
    },
    "kernelspec": {
      "name": "python3",
      "display_name": "Python 3"
    },
    "language_info": {
      "name": "python"
    }
  },
  "cells": [
    {
      "cell_type": "markdown",
      "metadata": {
        "id": "view-in-github",
        "colab_type": "text"
      },
      "source": [
        "<a href=\"https://colab.research.google.com/github/g20000903/Python/blob/main/Untitled0.ipynb\" target=\"_parent\"><img src=\"https://colab.research.google.com/assets/colab-badge.svg\" alt=\"Open In Colab\"/></a>"
      ]
    },
    {
      "cell_type": "markdown",
      "source": [
        "##Chap0 python 初體驗\n"
      ],
      "metadata": {
        "id": "p5TQOBcyf_hM"
      }
    },
    {
      "cell_type": "code",
      "source": [
        "a=5\n",
        "b=3\n",
        "a+b"
      ],
      "metadata": {
        "colab": {
          "base_uri": "https://localhost:8080/"
        },
        "id": "kyCRyviOp3Mm",
        "outputId": "0bd5598a-9827-4257-f9c2-4238b1ab7bbb"
      },
      "execution_count": null,
      "outputs": [
        {
          "output_type": "execute_result",
          "data": {
            "text/plain": [
              "8"
            ]
          },
          "metadata": {},
          "execution_count": 1
        }
      ]
    },
    {
      "cell_type": "code",
      "source": [
        "#變數交換 "
      ],
      "metadata": {
        "id": "e3CnLj1Aphx1"
      },
      "execution_count": null,
      "outputs": []
    },
    {
      "cell_type": "code",
      "source": [
        "import calendar\n",
        "print(calendar.month(2022,2))"
      ],
      "metadata": {
        "id": "7r17btNkmoT6"
      },
      "execution_count": null,
      "outputs": []
    },
    {
      "cell_type": "code",
      "source": [
        "print(calendar.calendar(2022))"
      ],
      "metadata": {
        "id": "N1AO_BUivpvB"
      },
      "execution_count": null,
      "outputs": []
    },
    {
      "cell_type": "code",
      "source": [
        "import requests\n",
        "a=requests.get(\"http://www.must.edu.tw\")\n",
        "print(a.text)"
      ],
      "metadata": {
        "id": "DFUmlDv-wCuY"
      },
      "execution_count": null,
      "outputs": []
    },
    {
      "cell_type": "code",
      "source": [
        "import webbrowser\n",
        "b=requests.get(\"https://random.dog/woof.json\").json()['url']\n",
        "webbrowser.open(b)"
      ],
      "metadata": {
        "colab": {
          "base_uri": "https://localhost:8080/"
        },
        "id": "lKWnR_n1yrw4",
        "outputId": "9a680d96-09e3-427a-a048-1c81c0e22566"
      },
      "execution_count": null,
      "outputs": [
        {
          "output_type": "execute_result",
          "data": {
            "text/plain": [
              "False"
            ]
          },
          "metadata": {},
          "execution_count": 12
        }
      ]
    },
    {
      "cell_type": "code",
      "source": [
        "import matplotlib.pyplot as plt\n",
        "x=[1,2,3]\n",
        "y=[4,5,6]\n",
        "plt.bar(x,y)\n",
        "plt.show"
      ],
      "metadata": {
        "id": "1NiO-k-EwmI0"
      },
      "execution_count": null,
      "outputs": []
    },
    {
      "cell_type": "code",
      "source": [
        "plt.pie(x, labels=y)\n",
        "plt.show()"
      ],
      "metadata": {
        "id": "W8f6Isn9xeUH"
      },
      "execution_count": null,
      "outputs": []
    },
    {
      "cell_type": "markdown",
      "source": [
        "##Chap 1 運算式、變數與資料型別"
      ],
      "metadata": {
        "id": "nWKgrevDy9-3"
      }
    },
    {
      "cell_type": "markdown",
      "source": [
        "##註解"
      ],
      "metadata": {
        "id": "fD7yQmICzHu8"
      }
    },
    {
      "cell_type": "code",
      "source": [
        "a=3  #單行註解\n",
        "b=5\n",
        "print(a+b)"
      ],
      "metadata": {
        "id": "y3bzYeWFzAgX"
      },
      "execution_count": null,
      "outputs": []
    },
    {
      "cell_type": "code",
      "source": [
        "'''\n",
        "多行註解\n",
        "多行註解\n",
        "多行註解\n",
        "'''\n",
        "a=3\n",
        "b=5\n",
        "print(a+b)"
      ],
      "metadata": {
        "id": "6wwb9IPRzC_6"
      },
      "execution_count": null,
      "outputs": []
    },
    {
      "cell_type": "markdown",
      "source": [
        "##運算式"
      ],
      "metadata": {
        "id": "H3-fXLuazN99"
      }
    },
    {
      "cell_type": "code",
      "source": [
        "#變數交換\n",
        "x=1\n",
        "y=10\n",
        "\n",
        "z=x\n",
        "x=y\n",
        "y=z\n",
        "print(x)\n",
        "print(y)"
      ],
      "metadata": {
        "colab": {
          "base_uri": "https://localhost:8080/"
        },
        "id": "QG6d4nBszRjc",
        "outputId": "a9760173-30cb-4185-a8a5-f779e30a9358"
      },
      "execution_count": null,
      "outputs": [
        {
          "output_type": "stream",
          "name": "stdout",
          "text": [
            "10\n",
            "1\n"
          ]
        }
      ]
    },
    {
      "cell_type": "code",
      "source": [
        "#變數交換 不透過第3變數\n",
        "x=1\n",
        "y=10\n",
        "\n",
        "x=x+y\n",
        "y=x-y\n",
        "x=x-y\n",
        "print(x,y)"
      ],
      "metadata": {
        "colab": {
          "base_uri": "https://localhost:8080/"
        },
        "id": "vcUtjdLDzapT",
        "outputId": "0dd2d72f-e879-4a24-f505-64276e9e71e8"
      },
      "execution_count": null,
      "outputs": [
        {
          "output_type": "stream",
          "name": "stdout",
          "text": [
            "10 1\n"
          ]
        }
      ]
    },
    {
      "cell_type": "markdown",
      "source": [
        "##變數"
      ],
      "metadata": {
        "id": "YIDdZYexzk7l"
      }
    },
    {
      "cell_type": "code",
      "source": [
        "#變數的平行設定\n",
        "x, y, z= 1, 10, 100\n",
        "print(x,y,z)"
      ],
      "metadata": {
        "colab": {
          "base_uri": "https://localhost:8080/"
        },
        "id": "44Q1T0CrzrI2",
        "outputId": "1df26a33-7968-49e3-9814-c533e5eb0dc9"
      },
      "execution_count": null,
      "outputs": [
        {
          "output_type": "stream",
          "name": "stdout",
          "text": [
            "1 10 100\n"
          ]
        }
      ]
    },
    {
      "cell_type": "code",
      "source": [
        "x,y,z=3,1,5\n",
        "x+=1 #x=x+1\n",
        "y*=2 #x=x*2\n",
        "z**=3 #z=z**3\n",
        "print(x,y,z)"
      ],
      "metadata": {
        "colab": {
          "base_uri": "https://localhost:8080/"
        },
        "id": "d4EqeoetesZs",
        "outputId": "0d5d850e-d5ed-44e9-9232-15e3ab676f40"
      },
      "execution_count": null,
      "outputs": [
        {
          "output_type": "stream",
          "name": "stdout",
          "text": [
            "4 2 125\n"
          ]
        }
      ]
    },
    {
      "cell_type": "markdown",
      "source": [
        "##變數的運用\n",
        "\n",
        "Q:半徑為10的圓形其面積大小為何?"
      ],
      "metadata": {
        "id": "p5GUlcQBiLfj"
      }
    },
    {
      "cell_type": "code",
      "source": [
        "import math\n",
        "r=10\n",
        "print(r*r*math.pi)"
      ],
      "metadata": {
        "colab": {
          "base_uri": "https://localhost:8080/"
        },
        "id": "vgKGSKB3ifOc",
        "outputId": "44546175-a251-4148-bc88-a63694cfb6c9"
      },
      "execution_count": null,
      "outputs": [
        {
          "output_type": "stream",
          "name": "stdout",
          "text": [
            "314.1592653589793\n"
          ]
        }
      ]
    },
    {
      "cell_type": "code",
      "source": [
        "import math\n",
        "r=float(input(\"請輸入圓的半徑:\")) #eva1()將字串轉化成數值運算\n",
        "print(r*r*math.pi)"
      ],
      "metadata": {
        "colab": {
          "base_uri": "https://localhost:8080/"
        },
        "id": "eQGMqywnkZh9",
        "outputId": "1b25bb98-9fd7-4c43-a9ad-ff4311f82d09"
      },
      "execution_count": null,
      "outputs": [
        {
          "output_type": "stream",
          "name": "stdout",
          "text": [
            "請輸入圓的半徑:10.0\n",
            "314.1592653589793\n"
          ]
        }
      ]
    },
    {
      "cell_type": "code",
      "source": [
        "x=10\n",
        "y=1\n",
        "print(x/y)#求商\n",
        "print(x//y)#求餘數"
      ],
      "metadata": {
        "colab": {
          "base_uri": "https://localhost:8080/"
        },
        "id": "jXtSg-q21b50",
        "outputId": "07323a1a-ce21-4760-fd91-e94362d34d52"
      },
      "execution_count": null,
      "outputs": [
        {
          "output_type": "stream",
          "name": "stdout",
          "text": [
            "10.0\n",
            "10\n"
          ]
        }
      ]
    },
    {
      "cell_type": "markdown",
      "source": [
        "##算數符號順序\n",
        "1.清單項目\n",
        "\n",
        "2.清單項目\n",
        "\n",
        "()括號>*次方/乘除>+加減\n"
      ],
      "metadata": {
        "id": "Q8sdVAqZ1wSQ"
      }
    },
    {
      "cell_type": "code",
      "source": [
        "x=(5*(1+2)**2-3+4/2)\n",
        "print(x)"
      ],
      "metadata": {
        "colab": {
          "base_uri": "https://localhost:8080/"
        },
        "id": "OEppFy7u2A5z",
        "outputId": "e70c2f39-541c-4244-b7e0-6360e304257a"
      },
      "execution_count": null,
      "outputs": [
        {
          "output_type": "stream",
          "name": "stdout",
          "text": [
            "44.0\n"
          ]
        }
      ]
    },
    {
      "cell_type": "code",
      "source": [
        "x=\"must\"\n",
        "print(type(x))\n",
        "y=10\n",
        "print(type(y))\n",
        "print(10*y)\n",
        "print(10*x)\n",
        "z=\"10\"\n",
        "print(10*z)\n",
        "print(10*int(z))\n",
        "print(10*float(z))\n",
        "print(10*str(z))\n",
        "print(10*eval(\"5*2\"))"
      ],
      "metadata": {
        "colab": {
          "base_uri": "https://localhost:8080/"
        },
        "id": "fVfdKBmJ2hwJ",
        "outputId": "50f2fb81-636e-4489-b97a-f49319c6e555"
      },
      "execution_count": null,
      "outputs": [
        {
          "output_type": "stream",
          "name": "stdout",
          "text": [
            "<class 'str'>\n",
            "<class 'int'>\n",
            "100\n",
            "mustmustmustmustmustmustmustmustmustmust\n",
            "10101010101010101010\n",
            "100\n",
            "100.0\n",
            "10101010101010101010\n",
            "100\n"
          ]
        }
      ]
    },
    {
      "cell_type": "markdown",
      "source": [
        "##Print的三種方式\n",
        "\n",
        "1.透過,區隔要列印的變數eg:print(\"This\",\"is\",\"a\",\"book\")\n",
        "\n",
        "2.利用字串的str.format() (新式)\n",
        "\n",
        "3.%格式化输出字符串 (舊式)"
      ],
      "metadata": {
        "id": "9uLXP8m14fsC"
      }
    },
    {
      "cell_type": "code",
      "source": [
        "a=\"This\"+\"is\"+\"a\"+\"book\"#Thisisabook\n",
        "print(a)\n",
        "print(\"This\",\"is\",\"a\",\"book\")"
      ],
      "metadata": {
        "id": "NCL5-W254ezF"
      },
      "execution_count": null,
      "outputs": []
    },
    {
      "cell_type": "markdown",
      "source": [
        "##資料型別\n",
        "\n",
        "python 屬於動態類型變數,使用前不需要宣告資料型態\n"
      ],
      "metadata": {
        "id": "7yvI3T4DqzKU"
      }
    },
    {
      "cell_type": "code",
      "source": [
        "x=254\n",
        "y=254.0\n",
        "z=\"write\"\n",
        "print(type(x))\n",
        "print(type(y))\n",
        "print(type(z))\n",
        "print(type(x==y))\n"
      ],
      "metadata": {
        "colab": {
          "base_uri": "https://localhost:8080/"
        },
        "id": "gMOjkwIYrHNk",
        "outputId": "dd7be534-ddf6-4069-fbe0-a43e8f459dd6"
      },
      "execution_count": null,
      "outputs": [
        {
          "output_type": "stream",
          "name": "stdout",
          "text": [
            "<class 'int'>\n",
            "<class 'float'>\n",
            "<class 'str'>\n",
            "<class 'bool'>\n"
          ]
        }
      ]
    },
    {
      "cell_type": "markdown",
      "source": [
        "##算術符號"
      ],
      "metadata": {
        "id": "CFEEQp83s6WM"
      }
    },
    {
      "cell_type": "code",
      "source": [
        "x=10\n",
        "y=3\n",
        "print(x/y)\n",
        "print(x//y) #取商\n",
        "print(x%y) #取餘數"
      ],
      "metadata": {
        "colab": {
          "base_uri": "https://localhost:8080/"
        },
        "id": "YGOp8XyCs5Q1",
        "outputId": "9e43ecf2-2abb-4c66-bf2c-6b9b213615d7"
      },
      "execution_count": null,
      "outputs": [
        {
          "output_type": "stream",
          "name": "stdout",
          "text": [
            "3.3333333333333335\n",
            "3\n",
            "1\n"
          ]
        }
      ]
    },
    {
      "cell_type": "markdown",
      "source": [
        "##算術符號的順序"
      ],
      "metadata": {
        "id": "qciO2LrhuxXl"
      }
    },
    {
      "cell_type": "code",
      "source": [
        "x=(5*(1+2)**2-3+4/2)\n",
        "print(x)"
      ],
      "metadata": {
        "colab": {
          "base_uri": "https://localhost:8080/"
        },
        "id": "YOdKZKCPu25U",
        "outputId": "ff10247a-3492-4d72-c965-44ad4449444c"
      },
      "execution_count": null,
      "outputs": [
        {
          "output_type": "stream",
          "name": "stdout",
          "text": [
            "44.0\n"
          ]
        }
      ]
    },
    {
      "cell_type": "markdown",
      "source": [
        "##3/22\n"
      ],
      "metadata": {
        "id": "TEkGQ4FOnzTo"
      }
    },
    {
      "cell_type": "code",
      "source": [
        "x=\"must\"\n",
        "print(type(x))\n",
        "y=10\n",
        "print(type(y))\n",
        "print(10*y)\n",
        "print(10*x)\n",
        "z=\"10\"\n",
        "print(10*z)\n",
        "print(10*int(z))\n",
        "print(10*float(z))\n",
        "print(10*str(y))\n",
        "print(10*eval(\"5*2\"))\n"
      ],
      "metadata": {
        "colab": {
          "base_uri": "https://localhost:8080/"
        },
        "id": "kmYw-dFvnGSx",
        "outputId": "5f3e21a6-b521-435c-c0b0-3b6dc0f188fa"
      },
      "execution_count": null,
      "outputs": [
        {
          "output_type": "stream",
          "name": "stdout",
          "text": [
            "<class 'str'>\n",
            "<class 'int'>\n",
            "100\n",
            "mustmustmustmustmustmustmustmustmustmust\n",
            "10101010101010101010\n",
            "100\n",
            "100.0\n",
            "10101010101010101010\n",
            "100\n"
          ]
        }
      ]
    },
    {
      "cell_type": "markdown",
      "source": [
        "##Chap2 流程控制"
      ],
      "metadata": {
        "id": "AE0TkiDgDq3k"
      }
    },
    {
      "cell_type": "markdown",
      "source": [
        "##if else,elif"
      ],
      "metadata": {
        "id": "ekPHvJUUskeh"
      }
    },
    {
      "cell_type": "code",
      "source": [
        "a=4\n",
        "b=3\n",
        "if a>b:\n",
        "  print(\"a>b\")\n",
        "elif a==b:\n",
        "  print(\"a=b\")\n",
        "else:\n",
        "  print(\"a<b\")"
      ],
      "metadata": {
        "colab": {
          "base_uri": "https://localhost:8080/"
        },
        "id": "adKE3QvBuVxC",
        "outputId": "e1ae1767-5856-4363-ffa5-6e969225139a"
      },
      "execution_count": null,
      "outputs": [
        {
          "output_type": "stream",
          "name": "stdout",
          "text": [
            "a>b\n"
          ]
        }
      ]
    },
    {
      "cell_type": "code",
      "source": [
        "grade=87\n",
        "print(\"成績評鑑：\")\n",
        "if grade >= 90:\n",
        "    print(\"優等\")\n",
        "elif grade >=80:\n",
        "    print(\"甲等\")\n",
        "elif grade >=70:\n",
        "    print(\"乙等\")\n",
        "elif grade >=60:\n",
        "    print(\"丙等\")\n",
        "else:\n",
        "    print(\"不及格\")"
      ],
      "metadata": {
        "id": "HRQSlSJ9xlmC"
      },
      "execution_count": null,
      "outputs": []
    },
    {
      "cell_type": "markdown",
      "source": [
        "##For迴圈"
      ],
      "metadata": {
        "id": "-FNXT3lo70Dz"
      }
    },
    {
      "cell_type": "code",
      "source": [
        "for i in range(10):\n",
        "  print(i)\n",
        "for i in range(0,10,1):\n",
        "  print(i)"
      ],
      "metadata": {
        "id": "RRR1OZru2pkj"
      },
      "execution_count": null,
      "outputs": []
    },
    {
      "cell_type": "code",
      "source": [
        "for c in \"I am a boy\":\n",
        "  print(c)\n",
        "for p in [\"java,\",\"python\",\"C#\"]:\n",
        "  print(p)        "
      ],
      "metadata": {
        "id": "hz6VvZKZ4ovY"
      },
      "execution_count": null,
      "outputs": []
    },
    {
      "cell_type": "code",
      "source": [
        "sum=0\n",
        "for i in range(1,11,1):\n",
        "  sum+=i\n",
        "print(sum)"
      ],
      "metadata": {
        "id": "RTGNl9O47OfO"
      },
      "execution_count": null,
      "outputs": []
    },
    {
      "cell_type": "markdown",
      "source": [
        "##雞兔同籠，若共有35個頭，94隻腳，請問有幾隻雞?幾隻兔?"
      ],
      "metadata": {
        "id": "IkN9jdhf866u"
      }
    },
    {
      "cell_type": "code",
      "source": [
        "for chicken in range(0,36):\n",
        "    rabbit=35-chicken\n",
        "    if (2*chicken+4*rabbit) == 94:\n",
        "        print(\"雞有\",chicken,\"隻,兔子有\",rabbit,\"隻\")\n",
        "        break\n",
        "else:\n",
        "    print(\"無解\")"
      ],
      "metadata": {
        "id": "m2lFIt1O8188"
      },
      "execution_count": null,
      "outputs": []
    },
    {
      "cell_type": "markdown",
      "source": [
        "##While迴圈"
      ],
      "metadata": {
        "id": "Ii1dhRvs76Ut"
      }
    },
    {
      "cell_type": "code",
      "source": [
        "i=1\n",
        "sum=0\n",
        "while i<11:\n",
        "  sum+=i\n",
        "  i+=1\n",
        "print(sum)"
      ],
      "metadata": {
        "colab": {
          "base_uri": "https://localhost:8080/"
        },
        "id": "bnajt4gs8DP2",
        "outputId": "da2ff03c-fb00-44c9-e033-7ecbad1bfaad"
      },
      "execution_count": null,
      "outputs": [
        {
          "output_type": "stream",
          "name": "stdout",
          "text": [
            "55\n"
          ]
        }
      ]
    },
    {
      "cell_type": "markdown",
      "source": [
        "##本金10000元，定存年利率0.6%，請問多久銀行存款會翻倍"
      ],
      "metadata": {
        "id": "phH4XkNA_6nG"
      }
    },
    {
      "cell_type": "code",
      "source": [
        "x=10000\n",
        "years=0\n",
        "while x <= 20000:\n",
        "    x=x*1.006\n",
        "    years += 1\n",
        "print(str(years), \"年以後，存款加倍，為\", int(x),\"元\")"
      ],
      "metadata": {
        "colab": {
          "base_uri": "https://localhost:8080/"
        },
        "id": "I7bmettV_8ZY",
        "outputId": "d09d039d-9322-4bcb-833a-83072d84862c"
      },
      "execution_count": null,
      "outputs": [
        {
          "output_type": "stream",
          "name": "stdout",
          "text": [
            "116 年以後，存款加倍，為 20015 元\n"
          ]
        }
      ]
    }
  ]
}